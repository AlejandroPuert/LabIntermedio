{
 "cells": [
  {
   "cell_type": "code",
   "execution_count": 1,
   "metadata": {},
   "outputs": [],
   "source": [
    "import numpy as np\n",
    "import matplotlib.pyplot as plt\n",
    "import pandas as pd\n",
    "import seaborn as sns\n",
    "from scipy import stats"
   ]
  },
  {
   "cell_type": "code",
   "execution_count": 2,
   "metadata": {},
   "outputs": [
    {
     "data": {
      "text/html": [
       "<div>\n",
       "<style scoped>\n",
       "    .dataframe tbody tr th:only-of-type {\n",
       "        vertical-align: middle;\n",
       "    }\n",
       "\n",
       "    .dataframe tbody tr th {\n",
       "        vertical-align: top;\n",
       "    }\n",
       "\n",
       "    .dataframe thead th {\n",
       "        text-align: right;\n",
       "    }\n",
       "</style>\n",
       "<table border=\"1\" class=\"dataframe\">\n",
       "  <thead>\n",
       "    <tr style=\"text-align: right;\">\n",
       "      <th></th>\n",
       "      <th>Unnamed: 0</th>\n",
       "      <th>U(kV)</th>\n",
       "      <th>U(V)</th>\n",
       "      <th>Incertidumbre</th>\n",
       "      <th>D1[mm]</th>\n",
       "      <th>D2[mm]</th>\n",
       "      <th>D1[m]</th>\n",
       "      <th>D2[m]</th>\n",
       "      <th>Promedio D1</th>\n",
       "      <th>Incertidumbre.1</th>\n",
       "      <th>Promedio D2</th>\n",
       "      <th>Incertidumbre.2</th>\n",
       "      <th>U^-1/2</th>\n",
       "      <th>Incertidumbre.3</th>\n",
       "      <th>lambda_bragg_D1</th>\n",
       "      <th>Error %</th>\n",
       "      <th>lambda_bragg_D2</th>\n",
       "      <th>Error %.1</th>\n",
       "      <th>lambda_broglie</th>\n",
       "    </tr>\n",
       "  </thead>\n",
       "  <tbody>\n",
       "    <tr>\n",
       "      <th>0</th>\n",
       "      <td>NaN</td>\n",
       "      <td>3.2</td>\n",
       "      <td>3200.0</td>\n",
       "      <td>100.0</td>\n",
       "      <td>27.90</td>\n",
       "      <td>49.75</td>\n",
       "      <td>0.02790</td>\n",
       "      <td>0.04975</td>\n",
       "      <td>0.02968</td>\n",
       "      <td>0.00004</td>\n",
       "      <td>0.051350</td>\n",
       "      <td>0.000035</td>\n",
       "      <td>0.0177</td>\n",
       "      <td>0.0003</td>\n",
       "      <td>2.330505e-11</td>\n",
       "      <td>7.37</td>\n",
       "      <td>2.308270e-11</td>\n",
       "      <td>6.34</td>\n",
       "      <td>2.170628e-11</td>\n",
       "    </tr>\n",
       "    <tr>\n",
       "      <th>1</th>\n",
       "      <td>NaN</td>\n",
       "      <td>3.2</td>\n",
       "      <td>3200.0</td>\n",
       "      <td>100.0</td>\n",
       "      <td>31.45</td>\n",
       "      <td>52.95</td>\n",
       "      <td>0.03145</td>\n",
       "      <td>0.05295</td>\n",
       "      <td>NaN</td>\n",
       "      <td>NaN</td>\n",
       "      <td>NaN</td>\n",
       "      <td>NaN</td>\n",
       "      <td>0.0177</td>\n",
       "      <td>0.0003</td>\n",
       "      <td>NaN</td>\n",
       "      <td>NaN</td>\n",
       "      <td>NaN</td>\n",
       "      <td>NaN</td>\n",
       "      <td>NaN</td>\n",
       "    </tr>\n",
       "    <tr>\n",
       "      <th>2</th>\n",
       "      <td>NaN</td>\n",
       "      <td>3.4</td>\n",
       "      <td>3400.0</td>\n",
       "      <td>100.0</td>\n",
       "      <td>26.80</td>\n",
       "      <td>47.55</td>\n",
       "      <td>0.02680</td>\n",
       "      <td>0.04755</td>\n",
       "      <td>0.02843</td>\n",
       "      <td>0.00004</td>\n",
       "      <td>0.050075</td>\n",
       "      <td>0.000035</td>\n",
       "      <td>0.0171</td>\n",
       "      <td>0.0003</td>\n",
       "      <td>2.233163e-11</td>\n",
       "      <td>6.05</td>\n",
       "      <td>2.252407e-11</td>\n",
       "      <td>6.96</td>\n",
       "      <td>2.105818e-11</td>\n",
       "    </tr>\n",
       "    <tr>\n",
       "      <th>3</th>\n",
       "      <td>NaN</td>\n",
       "      <td>3.4</td>\n",
       "      <td>3400.0</td>\n",
       "      <td>100.0</td>\n",
       "      <td>30.05</td>\n",
       "      <td>52.60</td>\n",
       "      <td>0.03005</td>\n",
       "      <td>0.05260</td>\n",
       "      <td>NaN</td>\n",
       "      <td>NaN</td>\n",
       "      <td>NaN</td>\n",
       "      <td>NaN</td>\n",
       "      <td>0.0171</td>\n",
       "      <td>0.0003</td>\n",
       "      <td>NaN</td>\n",
       "      <td>NaN</td>\n",
       "      <td>NaN</td>\n",
       "      <td>NaN</td>\n",
       "      <td>NaN</td>\n",
       "    </tr>\n",
       "    <tr>\n",
       "      <th>4</th>\n",
       "      <td>NaN</td>\n",
       "      <td>3.6</td>\n",
       "      <td>3600.0</td>\n",
       "      <td>100.0</td>\n",
       "      <td>25.70</td>\n",
       "      <td>46.55</td>\n",
       "      <td>0.02570</td>\n",
       "      <td>0.04655</td>\n",
       "      <td>0.02745</td>\n",
       "      <td>0.00004</td>\n",
       "      <td>0.048525</td>\n",
       "      <td>0.000035</td>\n",
       "      <td>0.0167</td>\n",
       "      <td>0.0002</td>\n",
       "      <td>2.157162e-11</td>\n",
       "      <td>5.41</td>\n",
       "      <td>2.184353e-11</td>\n",
       "      <td>6.74</td>\n",
       "      <td>2.046487e-11</td>\n",
       "    </tr>\n",
       "  </tbody>\n",
       "</table>\n",
       "</div>"
      ],
      "text/plain": [
       "   Unnamed: 0  U(kV)    U(V)  Incertidumbre  D1[mm]  D2[mm]    D1[m]    D2[m]  \\\n",
       "0         NaN    3.2  3200.0          100.0   27.90   49.75  0.02790  0.04975   \n",
       "1         NaN    3.2  3200.0          100.0   31.45   52.95  0.03145  0.05295   \n",
       "2         NaN    3.4  3400.0          100.0   26.80   47.55  0.02680  0.04755   \n",
       "3         NaN    3.4  3400.0          100.0   30.05   52.60  0.03005  0.05260   \n",
       "4         NaN    3.6  3600.0          100.0   25.70   46.55  0.02570  0.04655   \n",
       "\n",
       "   Promedio D1  Incertidumbre.1  Promedio D2  Incertidumbre.2  U^-1/2  \\\n",
       "0      0.02968          0.00004     0.051350         0.000035  0.0177   \n",
       "1          NaN              NaN          NaN              NaN  0.0177   \n",
       "2      0.02843          0.00004     0.050075         0.000035  0.0171   \n",
       "3          NaN              NaN          NaN              NaN  0.0171   \n",
       "4      0.02745          0.00004     0.048525         0.000035  0.0167   \n",
       "\n",
       "   Incertidumbre.3  lambda_bragg_D1  Error %  lambda_bragg_D2  Error %.1  \\\n",
       "0           0.0003     2.330505e-11     7.37     2.308270e-11       6.34   \n",
       "1           0.0003              NaN      NaN              NaN        NaN   \n",
       "2           0.0003     2.233163e-11     6.05     2.252407e-11       6.96   \n",
       "3           0.0003              NaN      NaN              NaN        NaN   \n",
       "4           0.0002     2.157162e-11     5.41     2.184353e-11       6.74   \n",
       "\n",
       "   lambda_broglie  \n",
       "0    2.170628e-11  \n",
       "1             NaN  \n",
       "2    2.105818e-11  \n",
       "3             NaN  \n",
       "4    2.046487e-11  "
      ]
     },
     "execution_count": 2,
     "metadata": {},
     "output_type": "execute_result"
    }
   ],
   "source": [
    "Todo = pd.read_csv(r'/home/alejandro/Documents/Octavo/Intermedio/Dif_electrones/datos_dif_electrones.csv')\n",
    "Todo.head()"
   ]
  },
  {
   "cell_type": "code",
   "execution_count": 15,
   "metadata": {},
   "outputs": [],
   "source": [
    "data = pd.DataFrame(Todo, columns=['U^-1/2','Incertidumbre.3', 'Promedio D1', 'Incertidumbre.1','Promedio D2','Incertidumbre.2','U(V)'])"
   ]
  },
  {
   "cell_type": "code",
   "execution_count": 16,
   "metadata": {},
   "outputs": [
    {
     "data": {
      "text/html": [
       "<div>\n",
       "<style scoped>\n",
       "    .dataframe tbody tr th:only-of-type {\n",
       "        vertical-align: middle;\n",
       "    }\n",
       "\n",
       "    .dataframe tbody tr th {\n",
       "        vertical-align: top;\n",
       "    }\n",
       "\n",
       "    .dataframe thead th {\n",
       "        text-align: right;\n",
       "    }\n",
       "</style>\n",
       "<table border=\"1\" class=\"dataframe\">\n",
       "  <thead>\n",
       "    <tr style=\"text-align: right;\">\n",
       "      <th></th>\n",
       "      <th>U^-1/2</th>\n",
       "      <th>Incertidumbre.3</th>\n",
       "      <th>Promedio D1</th>\n",
       "      <th>Incertidumbre.1</th>\n",
       "      <th>Promedio D2</th>\n",
       "      <th>Incertidumbre.2</th>\n",
       "      <th>U(V)</th>\n",
       "    </tr>\n",
       "  </thead>\n",
       "  <tbody>\n",
       "    <tr>\n",
       "      <th>0</th>\n",
       "      <td>0.0177</td>\n",
       "      <td>0.0003</td>\n",
       "      <td>0.02968</td>\n",
       "      <td>0.00004</td>\n",
       "      <td>0.051350</td>\n",
       "      <td>0.000035</td>\n",
       "      <td>3200.0</td>\n",
       "    </tr>\n",
       "    <tr>\n",
       "      <th>1</th>\n",
       "      <td>0.0177</td>\n",
       "      <td>0.0003</td>\n",
       "      <td>NaN</td>\n",
       "      <td>NaN</td>\n",
       "      <td>NaN</td>\n",
       "      <td>NaN</td>\n",
       "      <td>3200.0</td>\n",
       "    </tr>\n",
       "    <tr>\n",
       "      <th>2</th>\n",
       "      <td>0.0171</td>\n",
       "      <td>0.0003</td>\n",
       "      <td>0.02843</td>\n",
       "      <td>0.00004</td>\n",
       "      <td>0.050075</td>\n",
       "      <td>0.000035</td>\n",
       "      <td>3400.0</td>\n",
       "    </tr>\n",
       "    <tr>\n",
       "      <th>3</th>\n",
       "      <td>0.0171</td>\n",
       "      <td>0.0003</td>\n",
       "      <td>NaN</td>\n",
       "      <td>NaN</td>\n",
       "      <td>NaN</td>\n",
       "      <td>NaN</td>\n",
       "      <td>3400.0</td>\n",
       "    </tr>\n",
       "    <tr>\n",
       "      <th>4</th>\n",
       "      <td>0.0167</td>\n",
       "      <td>0.0002</td>\n",
       "      <td>0.02745</td>\n",
       "      <td>0.00004</td>\n",
       "      <td>0.048525</td>\n",
       "      <td>0.000035</td>\n",
       "      <td>3600.0</td>\n",
       "    </tr>\n",
       "  </tbody>\n",
       "</table>\n",
       "</div>"
      ],
      "text/plain": [
       "   U^-1/2  Incertidumbre.3  Promedio D1  Incertidumbre.1  Promedio D2  \\\n",
       "0  0.0177           0.0003      0.02968          0.00004     0.051350   \n",
       "1  0.0177           0.0003          NaN              NaN          NaN   \n",
       "2  0.0171           0.0003      0.02843          0.00004     0.050075   \n",
       "3  0.0171           0.0003          NaN              NaN          NaN   \n",
       "4  0.0167           0.0002      0.02745          0.00004     0.048525   \n",
       "\n",
       "   Incertidumbre.2    U(V)  \n",
       "0         0.000035  3200.0  \n",
       "1              NaN  3200.0  \n",
       "2         0.000035  3400.0  \n",
       "3              NaN  3400.0  \n",
       "4         0.000035  3600.0  "
      ]
     },
     "execution_count": 16,
     "metadata": {},
     "output_type": "execute_result"
    }
   ],
   "source": [
    "data.head()"
   ]
  },
  {
   "cell_type": "code",
   "execution_count": 17,
   "metadata": {},
   "outputs": [],
   "source": [
    "U=[0]\n",
    "IncU=[0]\n",
    "D1=[0]\n",
    "IncD1=[0]\n",
    "D2=[0]\n",
    "IncD2=[0]\n",
    "V=[0]\n",
    "for i in range(14):\n",
    "    if i%2 == 0:\n",
    "        U.append(data.iloc[i,0])\n",
    "        IncU.append(data.iloc[i,1])\n",
    "        D1.append(data.iloc[i,2])\n",
    "        IncD1.append(data.iloc[i,3])\n",
    "        D2.append(data.iloc[i,4])        \n",
    "        IncD2.append(data.iloc[i,5])\n",
    "        V.append(data.iloc[i,6])"
   ]
  },
  {
   "cell_type": "code",
   "execution_count": 18,
   "metadata": {},
   "outputs": [
    {
     "name": "stdout",
     "output_type": "stream",
     "text": [
      "0.9997355102628858 0.999526741163027\n",
      "[1.6669925e+00 3.0356872e-05] [ 2.88976784e+00 -1.66691771e-04]\n"
     ]
    }
   ],
   "source": [
    "pearson1, pvalue1 = stats.pearsonr(U,D1)\n",
    "param1 = np.polyfit(U,D1,1) #(m,b)\n",
    "param2 = np.polyfit(U,D2,1)\n",
    "pearson2, pvalue2 = stats.pearsonr(U,D2)\n",
    "print(pearson1,pearson2)\n",
    "print(param1,param2)"
   ]
  },
  {
   "cell_type": "code",
   "execution_count": 19,
   "metadata": {},
   "outputs": [
    {
     "data": {
      "text/plain": [
       "Text(0.5, 0, '$U^{-1/2}[V^{-1/2}$]')"
      ]
     },
     "execution_count": 19,
     "metadata": {},
     "output_type": "execute_result"
    },
    {
     "data": {
      "image/png": "[encoded data removed]",
      "text/plain": [
       "<Figure size 432x288 with 1 Axes>"
      ]
     },
     "metadata": {
      "needs_background": "light"
     },
     "output_type": "display_data"
    }
   ],
   "source": [
    "x = np.linspace(0,0.018,100)\n",
    "y1 = param1[1] + param1[0]*x \n",
    "y2 = param2[1]+param2[0]*x\n",
    "plt.plot(x,y1,c='Tomato',label=r'Promedio $D_1$')\n",
    "plt.plot(x,y2,c='SlateBlue',label=r'Promedio $D_2$')\n",
    "plt.grid()\n",
    "plt.errorbar(U,D1,xerr=IncU,yerr=IncD1,fmt='o',color='Tomato',capsize=2,ecolor='k',markersize=3)\n",
    "plt.errorbar(U,D2,xerr=IncU,yerr=IncD2,fmt='o',color='SlateBlue',capsize=2,ecolor='k',markersize=3)\n",
    "plt.legend()\n",
    "plt.ylabel('D[m]')\n",
    "plt.xlabel(r'$U^{-1/2}[V^{-1/2}$]')"
   ]
  },
  {
   "cell_type": "markdown",
   "metadata": {},
   "source": [
    "## Incertidumbre de los parámetros de la pendiente\n"
   ]
  },
  {
   "cell_type": "markdown",
   "metadata": {},
   "source": [
    "$$y = mx+b$$"
   ]
  },
  {
   "cell_type": "markdown",
   "metadata": {},
   "source": [
    "\n",
    "$$S = \\sum_{i = 1}^k ((y)_i-b-mx_i)^2$$"
   ]
  },
  {
   "cell_type": "markdown",
   "metadata": {},
   "source": [
    "$$\\Delta b = \\sqrt{\\frac{S}{k-2}\\frac{\\sum x^2}{{\\sum x^2 - \\left(\\sum x\\right)^2}}}$$"
   ]
  },
  {
   "cell_type": "markdown",
   "metadata": {},
   "source": [
    "$$\\Delta m = \\sqrt{\\frac{S}{k-2}\\frac{k}{\\sum x^2 - \\left(\\sum x\\right)^2}}$$\n",
    "\n",
    "Esta vez estoy haciendo un arreglo medio ilegal: la resta del denominador la estoy invirtiendo para que no me de negativo :) "
   ]
  },
  {
   "cell_type": "code",
   "execution_count": 8,
   "metadata": {},
   "outputs": [],
   "source": [
    "S1 = 0\n",
    "S2 = 0\n",
    "SumCuad = 0\n",
    "SumSing = 0\n",
    "k = len(U)\n",
    "for i in range(k):\n",
    "    S1 += (D1[i]-param1[1]-param1[0]*U[i])**2\n",
    "    S2 += (D2[i]-param2[1]-param2[0]*U[i])**2\n",
    "    SumSing += U[i]\n",
    "    SumCuad += (U[i])**2\n",
    "\n",
    "Dm1 =(((S1/(k-2))*(k/abs(SumCuad - (SumSing)**2))))\n",
    "Dm2 =(((S2/(k-2))*(k/abs(SumCuad - (SumSing)**2))))\n",
    "Db1 =(((S1/(k-2))*(SumCuad/abs(SumCuad - (SumSing)**2))))\n",
    "Db2 =(((S2/(k-2))*(SumCuad/abs(SumCuad - (SumSing)**2))))"
   ]
  },
  {
   "cell_type": "code",
   "execution_count": 9,
   "metadata": {},
   "outputs": [
    {
     "name": "stdout",
     "output_type": "stream",
     "text": [
      "[1.6669925e+00 3.0356872e-05] 4.179560878717664e-05 9.727092033039617e-09\n"
     ]
    }
   ],
   "source": [
    "print(param1,Dm1,Db1) #(m_1,b_1), (Δm_1,Δ𝑏_1)"
   ]
  },
  {
   "cell_type": "code",
   "execution_count": 10,
   "metadata": {},
   "outputs": [
    {
     "name": "stdout",
     "output_type": "stream",
     "text": [
      "[ 2.88976784e+00 -1.66691771e-04] 0.00022480979953372953 5.231998464548486e-08\n"
     ]
    }
   ],
   "source": [
    "print(param2,Dm2,Db2) #(m_2,b_2), (Δm_2,Δ𝑏_2)"
   ]
  },
  {
   "cell_type": "markdown",
   "metadata": {},
   "source": [
    "$$\\chi^2 = \\sum_{i=1}^k\\left\\lvert{\\frac{(O_i-E_i)^2}{E_i}}\\right\\rvert$$ \n",
    "O --> observado\n",
    "E --> esperado"
   ]
  },
  {
   "cell_type": "code",
   "execution_count": 11,
   "metadata": {},
   "outputs": [],
   "source": [
    "chi1 = 0\n",
    "for i in range(len(U)):\n",
    "    E1 = param1[0]*U[i]+param1[1]\n",
    "    num1 = np.abs(D1[i]-E1)**2\n",
    "    chi1 += num1/np.abs(E1)"
   ]
  },
  {
   "cell_type": "code",
   "execution_count": 12,
   "metadata": {},
   "outputs": [
    {
     "data": {
      "text/plain": [
       "4.313195530218268e-05"
      ]
     },
     "execution_count": 12,
     "metadata": {},
     "output_type": "execute_result"
    }
   ],
   "source": [
    "chi1"
   ]
  },
  {
   "cell_type": "markdown",
   "metadata": {},
   "source": [
    "# Incertidumbre h"
   ]
  },
  {
   "cell_type": "code",
   "execution_count": 21,
   "metadata": {},
   "outputs": [],
   "source": [
    "e = 1.602177e-19\n",
    "m = 9.109383e-31\n",
    "d = [1.98998e-10,1.14756e-10]\n",
    "L = 0.135\n",
    "A = 2*m*e\n",
    "B = 1/(2*L)"
   ]
  },
  {
   "cell_type": "code",
   "execution_count": 40,
   "metadata": {},
   "outputs": [],
   "source": [
    "Dh1 = []\n",
    "Dh2 = []\n",
    "for i in range(len(U)):\n",
    "    if i == 0:\n",
    "        continue\n",
    "    else:\n",
    "        x1 = np.sqrt(((A*d[0]**2*D1[i]**2*100**2)/(16*V[i]*L**2))+((A*V[i]*d[0]**2*IncD1[i]**2)/(4*L**2)))\n",
    "        x2 = np.sqrt(((A*d[1]**2*D2[i]**2*100**2)/(16*V[i]*L**2))+((A*V[i]*d[1]**2*IncD2[i]**2)/(4*L**2)))\n",
    "        Dh1.append(x1)\n",
    "        Dh2.append(x2)"
   ]
  },
  {
   "cell_type": "code",
   "execution_count": 39,
   "metadata": {},
   "outputs": [
    {
     "data": {
      "text/plain": [
       "[1.048499198987166e-35,\n",
       " 9.751820073449417e-36,\n",
       " 9.158788440344317e-36,\n",
       " 8.737093026710241e-36,\n",
       " 8.443528284680368e-36,\n",
       " 8.002267723403541e-36,\n",
       " 7.690812340263894e-36]"
      ]
     },
     "execution_count": 39,
     "metadata": {},
     "output_type": "execute_result"
    }
   ],
   "source": [
    "Dh1 #incertidumbres de h con d1"
   ]
  },
  {
   "cell_type": "code",
   "execution_count": 41,
   "metadata": {},
   "outputs": [
    {
     "data": {
      "text/plain": [
       "[1.0432169678620586e-35,\n",
       " 9.871152114958628e-36,\n",
       " 9.298127649857102e-36,\n",
       " 8.637759540216713e-36,\n",
       " 8.20763506832063e-36,\n",
       " 7.786015558628884e-36,\n",
       " 7.44032442224148e-36]"
      ]
     },
     "execution_count": 41,
     "metadata": {},
     "output_type": "execute_result"
    }
   ],
   "source": [
    "Dh2 #incertidumbres de h con d2"
   ]
  },
  {
   "cell_type": "code",
   "execution_count": 33,
   "metadata": {},
   "outputs": [
    {
     "name": "stdout",
     "output_type": "stream",
     "text": [
      "[0.0, 0.054962962962962957, 0.052648148148148145, 0.05083333333333333, 0.049777777777777775, 0.04931481481481481, 0.04783333333333333, 0.04699999999999999] [0.0, 0.10948633769154408, 0.10490971385814155, 0.1013185437510522, 0.0992285891504438, 0.0983116668609418, 0.09537640823939102, 0.09372459727395506] [0.0, 0.054715830421818865, 0.052430805210054096, 0.05063760631887537, 0.049593942169129636, 0.04913603998167367, 0.04767013103558248, 0.046845148332911736]\n"
     ]
    }
   ],
   "source": [
    "arctan = []\n",
    "otracosa = []\n",
    "sin = []\n",
    "for i in range(len(D1)):\n",
    "    arctan.append(np.arctan(D1[i]*B))\n",
    "    otracosa.append(0.5*D1[i]*B)\n",
    "    sin.append(np.sin(0.5*np.arctan(D1[i]*B)))\n",
    "print(otracosa,arctan,sin)"
   ]
  },
  {
   "cell_type": "code",
   "execution_count": null,
   "metadata": {},
   "outputs": [],
   "source": []
  }
 ],
 "metadata": {
  "kernelspec": {
   "display_name": "Python 3",
   "language": "python",
   "name": "python3"
  },
  "language_info": {
   "codemirror_mode": {
    "name": "ipython",
    "version": 3
   },
   "file_extension": ".py",
   "mimetype": "text/x-python",
   "name": "python",
   "nbconvert_exporter": "python",
   "pygments_lexer": "ipython3",
   "version": "3.8.5"
  }
 },
 "nbformat": 4,
 "nbformat_minor": 4
}

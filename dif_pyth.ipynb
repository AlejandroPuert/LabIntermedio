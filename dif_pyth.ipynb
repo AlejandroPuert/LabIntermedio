{
 "cells": [
  {
   "cell_type": "code",
   "execution_count": 2,
   "metadata": {},
   "outputs": [],
   "source": [
    "import numpy as np\n",
    "import matplotlib.pyplot as plt\n",
    "import pandas as pd\n",
    "import seaborn as sns\n",
    "from scipy import stats"
   ]
  },
  {
   "cell_type": "code",
   "execution_count": 3,
   "metadata": {},
   "outputs": [
    {
     "data": {
      "text/html": [
       "<div>\n",
       "<style scoped>\n",
       "    .dataframe tbody tr th:only-of-type {\n",
       "        vertical-align: middle;\n",
       "    }\n",
       "\n",
       "    .dataframe tbody tr th {\n",
       "        vertical-align: top;\n",
       "    }\n",
       "\n",
       "    .dataframe thead th {\n",
       "        text-align: right;\n",
       "    }\n",
       "</style>\n",
       "<table border=\"1\" class=\"dataframe\">\n",
       "  <thead>\n",
       "    <tr style=\"text-align: right;\">\n",
       "      <th></th>\n",
       "      <th>Unnamed: 0</th>\n",
       "      <th>U(kV)</th>\n",
       "      <th>U(V)</th>\n",
       "      <th>Incertidumbre</th>\n",
       "      <th>D1[mm]</th>\n",
       "      <th>D2[mm]</th>\n",
       "      <th>D1[m]</th>\n",
       "      <th>D2[m]</th>\n",
       "      <th>Promedio D1</th>\n",
       "      <th>Incertidumbre.1</th>\n",
       "      <th>Promedio D2</th>\n",
       "      <th>Incertidumbre.2</th>\n",
       "      <th>U^-1/2</th>\n",
       "      <th>Incertidumbre.3</th>\n",
       "      <th>lambda_bragg_D1</th>\n",
       "      <th>Error %</th>\n",
       "      <th>lambda_bragg_D2</th>\n",
       "      <th>Error %.1</th>\n",
       "      <th>lambda_broglie</th>\n",
       "    </tr>\n",
       "  </thead>\n",
       "  <tbody>\n",
       "    <tr>\n",
       "      <th>0</th>\n",
       "      <td>NaN</td>\n",
       "      <td>3.2</td>\n",
       "      <td>3200.0</td>\n",
       "      <td>100.0</td>\n",
       "      <td>27.90</td>\n",
       "      <td>49.75</td>\n",
       "      <td>0.02790</td>\n",
       "      <td>0.04975</td>\n",
       "      <td>0.02968</td>\n",
       "      <td>0.00004</td>\n",
       "      <td>0.051350</td>\n",
       "      <td>0.000035</td>\n",
       "      <td>0.0177</td>\n",
       "      <td>0.0003</td>\n",
       "      <td>2.330505e-11</td>\n",
       "      <td>7.37</td>\n",
       "      <td>2.308270e-11</td>\n",
       "      <td>6.34</td>\n",
       "      <td>2.170628e-11</td>\n",
       "    </tr>\n",
       "    <tr>\n",
       "      <th>1</th>\n",
       "      <td>NaN</td>\n",
       "      <td>3.2</td>\n",
       "      <td>3200.0</td>\n",
       "      <td>100.0</td>\n",
       "      <td>31.45</td>\n",
       "      <td>52.95</td>\n",
       "      <td>0.03145</td>\n",
       "      <td>0.05295</td>\n",
       "      <td>NaN</td>\n",
       "      <td>NaN</td>\n",
       "      <td>NaN</td>\n",
       "      <td>NaN</td>\n",
       "      <td>0.0177</td>\n",
       "      <td>0.0003</td>\n",
       "      <td>NaN</td>\n",
       "      <td>NaN</td>\n",
       "      <td>NaN</td>\n",
       "      <td>NaN</td>\n",
       "      <td>NaN</td>\n",
       "    </tr>\n",
       "    <tr>\n",
       "      <th>2</th>\n",
       "      <td>NaN</td>\n",
       "      <td>3.4</td>\n",
       "      <td>3400.0</td>\n",
       "      <td>100.0</td>\n",
       "      <td>26.80</td>\n",
       "      <td>47.55</td>\n",
       "      <td>0.02680</td>\n",
       "      <td>0.04755</td>\n",
       "      <td>0.02843</td>\n",
       "      <td>0.00004</td>\n",
       "      <td>0.050075</td>\n",
       "      <td>0.000035</td>\n",
       "      <td>0.0171</td>\n",
       "      <td>0.0003</td>\n",
       "      <td>2.233163e-11</td>\n",
       "      <td>6.05</td>\n",
       "      <td>2.252407e-11</td>\n",
       "      <td>6.96</td>\n",
       "      <td>2.105818e-11</td>\n",
       "    </tr>\n",
       "    <tr>\n",
       "      <th>3</th>\n",
       "      <td>NaN</td>\n",
       "      <td>3.4</td>\n",
       "      <td>3400.0</td>\n",
       "      <td>100.0</td>\n",
       "      <td>30.05</td>\n",
       "      <td>52.60</td>\n",
       "      <td>0.03005</td>\n",
       "      <td>0.05260</td>\n",
       "      <td>NaN</td>\n",
       "      <td>NaN</td>\n",
       "      <td>NaN</td>\n",
       "      <td>NaN</td>\n",
       "      <td>0.0171</td>\n",
       "      <td>0.0003</td>\n",
       "      <td>NaN</td>\n",
       "      <td>NaN</td>\n",
       "      <td>NaN</td>\n",
       "      <td>NaN</td>\n",
       "      <td>NaN</td>\n",
       "    </tr>\n",
       "    <tr>\n",
       "      <th>4</th>\n",
       "      <td>NaN</td>\n",
       "      <td>3.6</td>\n",
       "      <td>3600.0</td>\n",
       "      <td>100.0</td>\n",
       "      <td>25.70</td>\n",
       "      <td>46.55</td>\n",
       "      <td>0.02570</td>\n",
       "      <td>0.04655</td>\n",
       "      <td>0.02745</td>\n",
       "      <td>0.00004</td>\n",
       "      <td>0.048525</td>\n",
       "      <td>0.000035</td>\n",
       "      <td>0.0167</td>\n",
       "      <td>0.0002</td>\n",
       "      <td>2.157162e-11</td>\n",
       "      <td>5.41</td>\n",
       "      <td>2.184353e-11</td>\n",
       "      <td>6.74</td>\n",
       "      <td>2.046487e-11</td>\n",
       "    </tr>\n",
       "  </tbody>\n",
       "</table>\n",
       "</div>"
      ],
      "text/plain": [
       "   Unnamed: 0  U(kV)    U(V)  Incertidumbre  D1[mm]  D2[mm]    D1[m]    D2[m]  \\\n",
       "0         NaN    3.2  3200.0          100.0   27.90   49.75  0.02790  0.04975   \n",
       "1         NaN    3.2  3200.0          100.0   31.45   52.95  0.03145  0.05295   \n",
       "2         NaN    3.4  3400.0          100.0   26.80   47.55  0.02680  0.04755   \n",
       "3         NaN    3.4  3400.0          100.0   30.05   52.60  0.03005  0.05260   \n",
       "4         NaN    3.6  3600.0          100.0   25.70   46.55  0.02570  0.04655   \n",
       "\n",
       "   Promedio D1  Incertidumbre.1  Promedio D2  Incertidumbre.2  U^-1/2  \\\n",
       "0      0.02968          0.00004     0.051350         0.000035  0.0177   \n",
       "1          NaN              NaN          NaN              NaN  0.0177   \n",
       "2      0.02843          0.00004     0.050075         0.000035  0.0171   \n",
       "3          NaN              NaN          NaN              NaN  0.0171   \n",
       "4      0.02745          0.00004     0.048525         0.000035  0.0167   \n",
       "\n",
       "   Incertidumbre.3  lambda_bragg_D1  Error %  lambda_bragg_D2  Error %.1  \\\n",
       "0           0.0003     2.330505e-11     7.37     2.308270e-11       6.34   \n",
       "1           0.0003              NaN      NaN              NaN        NaN   \n",
       "2           0.0003     2.233163e-11     6.05     2.252407e-11       6.96   \n",
       "3           0.0003              NaN      NaN              NaN        NaN   \n",
       "4           0.0002     2.157162e-11     5.41     2.184353e-11       6.74   \n",
       "\n",
       "   lambda_broglie  \n",
       "0    2.170628e-11  \n",
       "1             NaN  \n",
       "2    2.105818e-11  \n",
       "3             NaN  \n",
       "4    2.046487e-11  "
      ]
     },
     "execution_count": 3,
     "metadata": {},
     "output_type": "execute_result"
    }
   ],
   "source": [
    "Todo = pd.read_csv(r'/home/alejandro/Documents/Octavo/Intermedio/Dif_electrones/datos_dif_electrones.csv')\n",
    "Todo.head()"
   ]
  },
  {
   "cell_type": "code",
   "execution_count": 4,
   "metadata": {},
   "outputs": [],
   "source": [
    "data = pd.DataFrame(Todo, columns=['U^-1/2','Incertidumbre.3', 'Promedio D1', 'Incertidumbre.1','Promedio D2','Incertidumbre.2'])"
   ]
  },
  {
   "cell_type": "code",
   "execution_count": 5,
   "metadata": {},
   "outputs": [
    {
     "data": {
      "text/html": [
       "<div>\n",
       "<style scoped>\n",
       "    .dataframe tbody tr th:only-of-type {\n",
       "        vertical-align: middle;\n",
       "    }\n",
       "\n",
       "    .dataframe tbody tr th {\n",
       "        vertical-align: top;\n",
       "    }\n",
       "\n",
       "    .dataframe thead th {\n",
       "        text-align: right;\n",
       "    }\n",
       "</style>\n",
       "<table border=\"1\" class=\"dataframe\">\n",
       "  <thead>\n",
       "    <tr style=\"text-align: right;\">\n",
       "      <th></th>\n",
       "      <th>U^-1/2</th>\n",
       "      <th>Incertidumbre.3</th>\n",
       "      <th>Promedio D1</th>\n",
       "      <th>Incertidumbre.1</th>\n",
       "      <th>Promedio D2</th>\n",
       "      <th>Incertidumbre.2</th>\n",
       "    </tr>\n",
       "  </thead>\n",
       "  <tbody>\n",
       "    <tr>\n",
       "      <th>0</th>\n",
       "      <td>0.0177</td>\n",
       "      <td>0.0003</td>\n",
       "      <td>0.02968</td>\n",
       "      <td>0.00004</td>\n",
       "      <td>0.051350</td>\n",
       "      <td>0.000035</td>\n",
       "    </tr>\n",
       "    <tr>\n",
       "      <th>1</th>\n",
       "      <td>0.0177</td>\n",
       "      <td>0.0003</td>\n",
       "      <td>NaN</td>\n",
       "      <td>NaN</td>\n",
       "      <td>NaN</td>\n",
       "      <td>NaN</td>\n",
       "    </tr>\n",
       "    <tr>\n",
       "      <th>2</th>\n",
       "      <td>0.0171</td>\n",
       "      <td>0.0003</td>\n",
       "      <td>0.02843</td>\n",
       "      <td>0.00004</td>\n",
       "      <td>0.050075</td>\n",
       "      <td>0.000035</td>\n",
       "    </tr>\n",
       "    <tr>\n",
       "      <th>3</th>\n",
       "      <td>0.0171</td>\n",
       "      <td>0.0003</td>\n",
       "      <td>NaN</td>\n",
       "      <td>NaN</td>\n",
       "      <td>NaN</td>\n",
       "      <td>NaN</td>\n",
       "    </tr>\n",
       "    <tr>\n",
       "      <th>4</th>\n",
       "      <td>0.0167</td>\n",
       "      <td>0.0002</td>\n",
       "      <td>0.02745</td>\n",
       "      <td>0.00004</td>\n",
       "      <td>0.048525</td>\n",
       "      <td>0.000035</td>\n",
       "    </tr>\n",
       "  </tbody>\n",
       "</table>\n",
       "</div>"
      ],
      "text/plain": [
       "   U^-1/2  Incertidumbre.3  Promedio D1  Incertidumbre.1  Promedio D2  \\\n",
       "0  0.0177           0.0003      0.02968          0.00004     0.051350   \n",
       "1  0.0177           0.0003          NaN              NaN          NaN   \n",
       "2  0.0171           0.0003      0.02843          0.00004     0.050075   \n",
       "3  0.0171           0.0003          NaN              NaN          NaN   \n",
       "4  0.0167           0.0002      0.02745          0.00004     0.048525   \n",
       "\n",
       "   Incertidumbre.2  \n",
       "0         0.000035  \n",
       "1              NaN  \n",
       "2         0.000035  \n",
       "3              NaN  \n",
       "4         0.000035  "
      ]
     },
     "execution_count": 5,
     "metadata": {},
     "output_type": "execute_result"
    }
   ],
   "source": [
    "data.head()"
   ]
  },
  {
   "cell_type": "code",
   "execution_count": 64,
   "metadata": {},
   "outputs": [
    {
     "name": "stdout",
     "output_type": "stream",
     "text": [
      "[0, 0.0003, 0.0003, 0.0002, 0.0002, 0.0002, 0.0002, 0.0002]\n"
     ]
    }
   ],
   "source": [
    "U=[0]\n",
    "IncU=[0]\n",
    "D1=[0]\n",
    "IncD1=[0]\n",
    "D2=[0]\n",
    "IncD2=[0]\n",
    "for i in range(14):\n",
    "    if i%2 == 0:\n",
    "        U.append(data.iloc[i,0])\n",
    "        IncU.append(data.iloc[i,1])\n",
    "        D1.append(data.iloc[i,2])\n",
    "        IncD1.append(data.iloc[i,3])\n",
    "        D2.append(data.iloc[i,4])        \n",
    "        IncD2.append(data.iloc[i,5])\n",
    "print(IncU)"
   ]
  },
  {
   "cell_type": "code",
   "execution_count": 65,
   "metadata": {},
   "outputs": [
    {
     "name": "stdout",
     "output_type": "stream",
     "text": [
      "0.9997355102628858 0.999526741163027\n",
      "[1.6669925e+00 3.0356872e-05] [ 2.88976784e+00 -1.66691771e-04]\n"
     ]
    }
   ],
   "source": [
    "pearson1, pvalue1 = stats.pearsonr(U,D1)\n",
    "param1 = np.polyfit(U,D1,1)\n",
    "param2 = np.polyfit(U,D2,1)\n",
    "pearson2, pvalue2 = stats.pearsonr(U,D2)\n",
    "print(pearson1,pearson2)\n",
    "print(param1,param2)"
   ]
  },
  {
   "cell_type": "code",
   "execution_count": 67,
   "metadata": {},
   "outputs": [
    {
     "data": {
      "text/plain": [
       "Text(0.5, 0, 'U[$1/V^{1/2}$]')"
      ]
     },
     "execution_count": 67,
     "metadata": {},
     "output_type": "execute_result"
    },
    {
     "data": {
      "image/png": "[encoded data removed]",
      "text/plain": [
       "<Figure size 432x288 with 1 Axes>"
      ]
     },
     "metadata": {
      "needs_background": "light"
     },
     "output_type": "display_data"
    }
   ],
   "source": [
    "x = np.linspace(0,0.018,100)\n",
    "y1 = param1[1] + param1[0]*x \n",
    "y2 = param2[1]+param2[0]*x\n",
    "plt.plot(x,y1,c='Tomato',label=r'Promedio $D_1$')\n",
    "plt.plot(x,y2,c='SlateBlue',label=r'Promedio $D_2$')\n",
    "plt.grid()\n",
    "plt.errorbar(U,D1,xerr=IncU,yerr=IncD1,fmt='o',color='Tomato',capsize=2,ecolor='k',markersize=3)\n",
    "plt.errorbar(U,D2,xerr=IncU,yerr=IncD2,fmt='o',color='SlateBlue',capsize=2,ecolor='k',markersize=3)\n",
    "plt.legend()\n",
    "plt.ylabel('D[m]')\n",
    "plt.xlabel(r'U[$1/V^{1/2}$]')"
   ]
  },
  {
   "cell_type": "code",
   "execution_count": 53,
   "metadata": {},
   "outputs": [
    {
     "name": "stdout",
     "output_type": "stream",
     "text": [
      "0.9886322690913569 0.996363012815942\n",
      "[1.57315618e+00 1.56288503e-03] [ 3.40502983 -0.00858191]\n"
     ]
    }
   ],
   "source": []
  },
  {
   "cell_type": "code",
   "execution_count": null,
   "metadata": {},
   "outputs": [],
   "source": []
  }
 ],
 "metadata": {
  "kernelspec": {
   "display_name": "Python 3",
   "language": "python",
   "name": "python3"
  },
  "language_info": {
   "codemirror_mode": {
    "name": "ipython",
    "version": 3
   },
   "file_extension": ".py",
   "mimetype": "text/x-python",
   "name": "python",
   "nbconvert_exporter": "python",
   "pygments_lexer": "ipython3",
   "version": "3.8.5"
  }
 },
 "nbformat": 4,
 "nbformat_minor": 4
}

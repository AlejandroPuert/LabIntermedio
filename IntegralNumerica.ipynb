{
 "cells": [
  {
   "cell_type": "code",
   "execution_count": 1,
   "metadata": {},
   "outputs": [],
   "source": [
    "import numpy as np\n",
    "import matplotlib.pyplot as plt"
   ]
  },
  {
   "cell_type": "code",
   "execution_count": 3,
   "metadata": {},
   "outputs": [],
   "source": [
    "def int_simpson(f,a,b,N=100):\n",
    "    assert N%2==0\n",
    "    assert a<b\n",
    "    assert callable(f)\n",
    "    x_i=np.linspace(a,b,N+1)\n",
    "    delta=(b-a)/N\n",
    "    f_xi=f(x_i)\n",
    "    f_xi[0] /=2; f_xi[-1]/=2\n",
    "    area =delta*np.sum([\n",
    "        (2*f_/3 if index[0]%2==0 else 4*f_/3)\n",
    "            for index,f_ in np.ndenumerate(f_xi)\n",
    "    ])\n",
    "    return area"
   ]
  },
  {
   "cell_type": "code",
   "execution_count": 30,
   "metadata": {},
   "outputs": [],
   "source": [
    "def func(y):\n",
    "    global D1\n",
    "    global D2\n",
    "    global lam\n",
    "    global z\n",
    "    return np.exp((np.pi*1j*y**2)/(D1*lam))*np.exp((np.pi*1j*(z-y)**2)/(D2*lam))\n",
    "\n",
    "def I1(D1,D2,lam,a,d,z): #solo la rendija de abajo\n",
    "    A = np.exp((2*np.pi*1j*(D1+D2))/lam)*(int_simpson(func,-d-a/2,-d+a/2,N=1000))\n",
    "    return A\n",
    "\n",
    "def I2(D1,D2,lam,a,d,z): #solo la rendija de arriba\n",
    "    A = np.exp((2*np.pi*1j*(D1+D2))/lam)*(int_simpson(func,d-a/2,d+a/2,N=1000))\n",
    "    return A\n",
    "\n",
    "def I3(D1,D2,lam,a,d,z): #Las dos\n",
    "    A = np.exp((2*np.pi*1j*(D1+D2))/lam)*(int_simpson(func,-d-a/2,-d+a/2,N=1000) + int_simpson(func,d-a/2,d+a/2,N=1000))\n",
    "    return A"
   ]
  },
  {
   "cell_type": "code",
   "execution_count": 31,
   "metadata": {},
   "outputs": [],
   "source": [
    "D1 = .5\n",
    "D2 = .5 \n",
    "lam = 5.5e-7\n",
    "d = 0.01\n",
    "a = 0.0001\n",
    "Z = np.linspace(-10,10,1000)\n",
    "Int1 = [] #solo la de abajo\n",
    "Int2 = [] #Solo la de arriba\n",
    "Int3 = [] #las dos\n",
    "for i in range(len(Z)):\n",
    "    z = Z[i]\n",
    "    Int1.append(abs(I1(D1,D2,lam,a,d,z)))\n",
    "    Int2.append(abs(I2(D1,D2,lam,a,d,z)))\n",
    "    Int3.append(abs(I3(D1,D2,lam,a,d,z)))\n",
    "    \n",
    "    \n",
    "Int1 = np.array(Int1)\n",
    "Int2 = np.array(Int2)\n",
    "Int3 = np.array(Int3)"
   ]
  },
  {
   "cell_type": "code",
   "execution_count": 35,
   "metadata": {},
   "outputs": [
    {
     "data": {
      "text/plain": [
       "[<matplotlib.lines.Line2D at 0x7f5a93e82ee0>]"
      ]
     },
     "execution_count": 35,
     "metadata": {},
     "output_type": "execute_result"
    },
    {
     "data": {
      "image/png": "[encoded data removed]",
      "text/plain": [
       "<Figure size 432x288 with 1 Axes>"
      ]
     },
     "metadata": {
      "needs_background": "light"
     },
     "output_type": "display_data"
    }
   ],
   "source": [
    "plt.plot(Z,Int1)\n",
    "plt.plot(Z,Int2)\n",
    "plt.plot(Z,Int3)"
   ]
  },
  {
   "cell_type": "code",
   "execution_count": null,
   "metadata": {},
   "outputs": [],
   "source": []
  }
 ],
 "metadata": {
  "kernelspec": {
   "display_name": "Python 3",
   "language": "python",
   "name": "python3"
  },
  "language_info": {
   "codemirror_mode": {
    "name": "ipython",
    "version": 3
   },
   "file_extension": ".py",
   "mimetype": "text/x-python",
   "name": "python",
   "nbconvert_exporter": "python",
   "pygments_lexer": "ipython3",
   "version": "3.8.5"
  }
 },
 "nbformat": 4,
 "nbformat_minor": 4
}

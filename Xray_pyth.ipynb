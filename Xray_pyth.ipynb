{
 "cells": [
  {
   "cell_type": "code",
   "execution_count": 1,
   "metadata": {},
   "outputs": [],
   "source": [
    "import numpy as np\n",
    "import matplotlib.pyplot as plt\n",
    "import pandas as pd\n",
    "import seaborn as sns\n",
    "from scipy import stats"
   ]
  },
  {
   "cell_type": "code",
   "execution_count": 2,
   "metadata": {},
   "outputs": [],
   "source": [
    "datos1 = pd.read_csv(r'/home/alejandro/Documents/Octavo/Intermedio/RayosX/Datos1.csv')\n",
    "datos2 = pd.read_csv(r'/home/alejandro/Documents/Octavo/Intermedio/RayosX/Datos2.csv')\n",
    "datos3 = pd.read_csv(r'/home/alejandro/Documents/Octavo/Intermedio/RayosX/Datos3.csv')\n",
    "datos4 = pd.read_csv(r'/home/alejandro/Documents/Octavo/Intermedio/RayosX/Datos4.csv')"
   ]
  },
  {
   "cell_type": "code",
   "execution_count": 14,
   "metadata": {},
   "outputs": [
    {
     "data": {
      "text/html": [
       "<div>\n",
       "<style scoped>\n",
       "    .dataframe tbody tr th:only-of-type {\n",
       "        vertical-align: middle;\n",
       "    }\n",
       "\n",
       "    .dataframe tbody tr th {\n",
       "        vertical-align: top;\n",
       "    }\n",
       "\n",
       "    .dataframe thead th {\n",
       "        text-align: right;\n",
       "    }\n",
       "</style>\n",
       "<table border=\"1\" class=\"dataframe\">\n",
       "  <thead>\n",
       "    <tr style=\"text-align: right;\">\n",
       "      <th></th>\n",
       "      <th>Rayos X característicos del cobre</th>\n",
       "      <th>LiF</th>\n",
       "      <th>Ángulo (rad)</th>\n",
       "      <th>Intensidad (arb)</th>\n",
       "      <th>Unnamed: 4</th>\n",
       "      <th>KBr</th>\n",
       "      <th>Ángulo (rad).1</th>\n",
       "      <th>Intensidad (arb).1</th>\n",
       "    </tr>\n",
       "  </thead>\n",
       "  <tbody>\n",
       "    <tr>\n",
       "      <th>0</th>\n",
       "      <td>NaN</td>\n",
       "      <td>NaN</td>\n",
       "      <td>0.052360</td>\n",
       "      <td>0</td>\n",
       "      <td>NaN</td>\n",
       "      <td>NaN</td>\n",
       "      <td>0.052360</td>\n",
       "      <td>0.0</td>\n",
       "    </tr>\n",
       "    <tr>\n",
       "      <th>1</th>\n",
       "      <td>NaN</td>\n",
       "      <td>NaN</td>\n",
       "      <td>0.052535</td>\n",
       "      <td>0</td>\n",
       "      <td>NaN</td>\n",
       "      <td>NaN</td>\n",
       "      <td>0.052535</td>\n",
       "      <td>0.0</td>\n",
       "    </tr>\n",
       "    <tr>\n",
       "      <th>2</th>\n",
       "      <td>NaN</td>\n",
       "      <td>NaN</td>\n",
       "      <td>0.052709</td>\n",
       "      <td>0</td>\n",
       "      <td>NaN</td>\n",
       "      <td>NaN</td>\n",
       "      <td>0.052709</td>\n",
       "      <td>0.0</td>\n",
       "    </tr>\n",
       "    <tr>\n",
       "      <th>3</th>\n",
       "      <td>NaN</td>\n",
       "      <td>NaN</td>\n",
       "      <td>0.052884</td>\n",
       "      <td>0</td>\n",
       "      <td>NaN</td>\n",
       "      <td>NaN</td>\n",
       "      <td>0.052884</td>\n",
       "      <td>0.0</td>\n",
       "    </tr>\n",
       "    <tr>\n",
       "      <th>4</th>\n",
       "      <td>NaN</td>\n",
       "      <td>NaN</td>\n",
       "      <td>0.053058</td>\n",
       "      <td>0</td>\n",
       "      <td>NaN</td>\n",
       "      <td>NaN</td>\n",
       "      <td>0.053058</td>\n",
       "      <td>0.0</td>\n",
       "    </tr>\n",
       "  </tbody>\n",
       "</table>\n",
       "</div>"
      ],
      "text/plain": [
       "   Rayos X característicos del cobre  LiF  Ángulo (rad)  Intensidad (arb)  \\\n",
       "0                                NaN  NaN      0.052360                 0   \n",
       "1                                NaN  NaN      0.052535                 0   \n",
       "2                                NaN  NaN      0.052709                 0   \n",
       "3                                NaN  NaN      0.052884                 0   \n",
       "4                                NaN  NaN      0.053058                 0   \n",
       "\n",
       "   Unnamed: 4  KBr  Ángulo (rad).1  Intensidad (arb).1  \n",
       "0         NaN  NaN        0.052360                 0.0  \n",
       "1         NaN  NaN        0.052535                 0.0  \n",
       "2         NaN  NaN        0.052709                 0.0  \n",
       "3         NaN  NaN        0.052884                 0.0  \n",
       "4         NaN  NaN        0.053058                 0.0  "
      ]
     },
     "execution_count": 14,
     "metadata": {},
     "output_type": "execute_result"
    }
   ],
   "source": [
    "datos1.head()"
   ]
  },
  {
   "cell_type": "code",
   "execution_count": 18,
   "metadata": {},
   "outputs": [],
   "source": [
    "dLiF = 2.014e-10\n",
    "dKBr = 3.29e-10\n",
    "AngKBr = []\n",
    "AngLiF = []\n",
    "ILi = []\n",
    "IKBr = []\n",
    "lamLiF = []\n",
    "lamKBr = []\n",
    "for i in range(5430):\n",
    "    AngLiF.append(datos1.iloc[i,2])\n",
    "    AngKBr.append(datos1.iloc[i,6])\n",
    "    ILi.append(datos1.iloc[i,3])\n",
    "    IKBr.append(datos1.iloc[i,7])\n",
    "    lamLiF.append(2*dLiF*np.sin(AngLiF[i]))\n",
    "    lamKBr.append(2*dKBr*np.sin(AngKBr[i]))\n"
   ]
  },
  {
   "cell_type": "code",
   "execution_count": 28,
   "metadata": {},
   "outputs": [
    {
     "data": {
      "text/plain": [
       "(0.0, 1.7e-10)"
      ]
     },
     "execution_count": 28,
     "metadata": {},
     "output_type": "execute_result"
    },
    {
     "data": {
      "image/png": "[encoded data removed]",
      "text/plain": [
       "<Figure size 432x288 with 1 Axes>"
      ]
     },
     "metadata": {
      "needs_background": "light"
     },
     "output_type": "display_data"
    }
   ],
   "source": [
    "plt.plot(lamLiF,ILi,label = 'LiF')\n",
    "plt.plot(lamKBr,IKBr, label = 'KBr')\n",
    "plt.grid()\n",
    "plt.ylabel('Intensidad [Arb]')\n",
    "plt.xlabel('Longitud de onda [m]')\n",
    "plt.legend()\n",
    "plt.xlim(0,1.7e-10)"
   ]
  },
  {
   "cell_type": "code",
   "execution_count": 56,
   "metadata": {},
   "outputs": [],
   "source": [
    "#Calculo de máximo global\n",
    "k1 = 0\n",
    "k2 = 0\n",
    "IMax1 = 0\n",
    "IMax2 = 0\n",
    "for i in range(len(lamKBr)):\n",
    "    if ILi[i]>IMax1:\n",
    "        IMax1 = ILi[i]\n",
    "        k1 = i\n",
    "    if IKBr[i]>IMax2:\n",
    "        IMax2 = IKBr[i]\n",
    "        k2 = i"
   ]
  },
  {
   "cell_type": "code",
   "execution_count": 88,
   "metadata": {},
   "outputs": [],
   "source": [
    "#Cálculo del primer máximo\n",
    "k11 = 0\n",
    "k22 = 0\n",
    "IMax11 = 0\n",
    "IMax22 = 0\n",
    "for i in range(len(lamKBr)):\n",
    "    if ILi[i]>IMax11:\n",
    "        IMax11 = ILi[i]\n",
    "        k11 = i\n",
    "    if IKBr[i]>IMax22:\n",
    "        IMax22 = IKBr[i]\n",
    "        k22 = i\n",
    "    if lamLiF[i]>1.5e-10:\n",
    "        break\n",
    "        \n",
    "KalfLiF = lamLiF[k1]\n",
    "KalfKBr = lamKBr[k2]\n",
    "KbetaLiF = lamLiF[k11]\n",
    "KbetaKBr = lamKBr[k22]"
   ]
  },
  {
   "cell_type": "code",
   "execution_count": 90,
   "metadata": {},
   "outputs": [
    {
     "name": "stdout",
     "output_type": "stream",
     "text": [
      "1.5717236050515191e-10 1.5431583760156256e-10\n"
     ]
    }
   ],
   "source": [
    "#Calculo de desviación \n",
    "miti1 = IMax1/2\n",
    "miti2 = IMax2/2\n",
    "miti11 = IMax11/2\n",
    "miti22 = IMax22/2\n",
    "\n",
    "D11 = D12 = D13 = D14 = D21 = D22 = D23 = D24 = 0\n",
    "\n",
    "\n",
    "l11 = l12 = l13 = l14 = l21 = l22 = l23 = l24 = 100\n",
    "for i in range(len(lamKBr)):\n",
    "    if abs(round(miti1) - ILi[i])<l11 and i<k1:\n",
    "        D11 = lamLiF[i]\n",
    "    if abs(round(miti1) - ILi[i])<l12 and i>k1:\n",
    "        D12 = lamLiF[i]\n",
    "        \n",
    "    if abs(round(miti11) - ILi[i])<l13 and i<k11:\n",
    "        D13 = lamLiF[i]\n",
    "    if abs(round(miti11) - ILi[i])<l14 and i>k11:\n",
    "        D14 = lamLiF[i]\n",
    "        \n",
    "    if abs(round(miti2) - IKBr[i])<l21 and i<k2:\n",
    "        D21 = lamKBr[i]\n",
    "    if abs(round(miti2) - IKBr[i])<l22 and i>k2:\n",
    "        D22 = lamKBr[i]\n",
    "        \n",
    "    if abs(round(miti22) - IKBr[i])<l23 and i<k22:\n",
    "        D23 = lamKBr[i]\n",
    "    if abs(round(miti22) - IKBr[i])<l24 and i>k22:\n",
    "        D24 = lamKBr[i]\n",
    "        \n",
    "Delta1 = D12 - D11 #incertidumbre Kalfa LiF\n",
    "Delta11 = D14 - D13 #incertidumbre Kbeta LiF\n",
    "Delta2 = D22 - D21 #incertidumbre Kalfa KBr\n",
    "Delta22 = D24 - D23 #incertidumbre Kbeta KBr\n",
    "\n",
    "Delta = [Delta1,Delta11,Delta2,Delta22] "
   ]
  },
  {
   "cell_type": "code",
   "execution_count": null,
   "metadata": {},
   "outputs": [],
   "source": []
  }
 ],
 "metadata": {
  "kernelspec": {
   "display_name": "Python 3",
   "language": "python",
   "name": "python3"
  },
  "language_info": {
   "codemirror_mode": {
    "name": "ipython",
    "version": 3
   },
   "file_extension": ".py",
   "mimetype": "text/x-python",
   "name": "python",
   "nbconvert_exporter": "python",
   "pygments_lexer": "ipython3",
   "version": "3.8.5"
  }
 },
 "nbformat": 4,
 "nbformat_minor": 4
}

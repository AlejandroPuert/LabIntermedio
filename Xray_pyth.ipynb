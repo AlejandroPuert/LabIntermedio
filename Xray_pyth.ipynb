{
 "cells": [
  {
   "cell_type": "code",
   "execution_count": 1,
   "metadata": {},
   "outputs": [],
   "source": [
    "import numpy as np\n",
    "import matplotlib.pyplot as plt\n",
    "import pandas as pd\n",
    "import seaborn as sns\n",
    "from scipy import stats"
   ]
  },
  {
   "cell_type": "code",
   "execution_count": 2,
   "metadata": {},
   "outputs": [],
   "source": [
    "datos1 = pd.read_csv(r'/home/alejandro/Documents/Octavo/Intermedio/RayosX/Datos1.csv')\n",
    "datos2 = pd.read_csv(r'/home/alejandro/Documents/Octavo/Intermedio/RayosX/Datos2.csv')\n",
    "datos3 = pd.read_csv(r'/home/alejandro/Documents/Octavo/Intermedio/RayosX/Datos3.csv')\n",
    "datos4 = pd.read_csv(r'/home/alejandro/Documents/Octavo/Intermedio/RayosX/Datos4.csv')"
   ]
  },
  {
   "cell_type": "code",
   "execution_count": 3,
   "metadata": {},
   "outputs": [
    {
     "data": {
      "text/html": [
       "<div>\n",
       "<style scoped>\n",
       "    .dataframe tbody tr th:only-of-type {\n",
       "        vertical-align: middle;\n",
       "    }\n",
       "\n",
       "    .dataframe tbody tr th {\n",
       "        vertical-align: top;\n",
       "    }\n",
       "\n",
       "    .dataframe thead th {\n",
       "        text-align: right;\n",
       "    }\n",
       "</style>\n",
       "<table border=\"1\" class=\"dataframe\">\n",
       "  <thead>\n",
       "    <tr style=\"text-align: right;\">\n",
       "      <th></th>\n",
       "      <th>Rayos X característicos del cobre</th>\n",
       "      <th>LiF</th>\n",
       "      <th>Ángulo (rad)</th>\n",
       "      <th>Intensidad (arb)</th>\n",
       "      <th>Unnamed: 4</th>\n",
       "      <th>KBr</th>\n",
       "      <th>Ángulo (rad).1</th>\n",
       "      <th>Intensidad (arb).1</th>\n",
       "    </tr>\n",
       "  </thead>\n",
       "  <tbody>\n",
       "    <tr>\n",
       "      <th>0</th>\n",
       "      <td>NaN</td>\n",
       "      <td>NaN</td>\n",
       "      <td>0.052360</td>\n",
       "      <td>0</td>\n",
       "      <td>NaN</td>\n",
       "      <td>NaN</td>\n",
       "      <td>0.052360</td>\n",
       "      <td>0.0</td>\n",
       "    </tr>\n",
       "    <tr>\n",
       "      <th>1</th>\n",
       "      <td>NaN</td>\n",
       "      <td>NaN</td>\n",
       "      <td>0.052535</td>\n",
       "      <td>0</td>\n",
       "      <td>NaN</td>\n",
       "      <td>NaN</td>\n",
       "      <td>0.052535</td>\n",
       "      <td>0.0</td>\n",
       "    </tr>\n",
       "    <tr>\n",
       "      <th>2</th>\n",
       "      <td>NaN</td>\n",
       "      <td>NaN</td>\n",
       "      <td>0.052709</td>\n",
       "      <td>0</td>\n",
       "      <td>NaN</td>\n",
       "      <td>NaN</td>\n",
       "      <td>0.052709</td>\n",
       "      <td>0.0</td>\n",
       "    </tr>\n",
       "    <tr>\n",
       "      <th>3</th>\n",
       "      <td>NaN</td>\n",
       "      <td>NaN</td>\n",
       "      <td>0.052884</td>\n",
       "      <td>0</td>\n",
       "      <td>NaN</td>\n",
       "      <td>NaN</td>\n",
       "      <td>0.052884</td>\n",
       "      <td>0.0</td>\n",
       "    </tr>\n",
       "    <tr>\n",
       "      <th>4</th>\n",
       "      <td>NaN</td>\n",
       "      <td>NaN</td>\n",
       "      <td>0.053058</td>\n",
       "      <td>0</td>\n",
       "      <td>NaN</td>\n",
       "      <td>NaN</td>\n",
       "      <td>0.053058</td>\n",
       "      <td>0.0</td>\n",
       "    </tr>\n",
       "  </tbody>\n",
       "</table>\n",
       "</div>"
      ],
      "text/plain": [
       "   Rayos X característicos del cobre  LiF  Ángulo (rad)  Intensidad (arb)  \\\n",
       "0                                NaN  NaN      0.052360                 0   \n",
       "1                                NaN  NaN      0.052535                 0   \n",
       "2                                NaN  NaN      0.052709                 0   \n",
       "3                                NaN  NaN      0.052884                 0   \n",
       "4                                NaN  NaN      0.053058                 0   \n",
       "\n",
       "   Unnamed: 4  KBr  Ángulo (rad).1  Intensidad (arb).1  \n",
       "0         NaN  NaN        0.052360                 0.0  \n",
       "1         NaN  NaN        0.052535                 0.0  \n",
       "2         NaN  NaN        0.052709                 0.0  \n",
       "3         NaN  NaN        0.052884                 0.0  \n",
       "4         NaN  NaN        0.053058                 0.0  "
      ]
     },
     "execution_count": 3,
     "metadata": {},
     "output_type": "execute_result"
    }
   ],
   "source": [
    "datos1.head()"
   ]
  },
  {
   "cell_type": "markdown",
   "metadata": {},
   "source": [
    "# Actividad 1"
   ]
  },
  {
   "cell_type": "code",
   "execution_count": 4,
   "metadata": {},
   "outputs": [],
   "source": [
    "dLiF = 2.014e-10\n",
    "dKBr = 3.29e-10\n",
    "AngKBr = []\n",
    "AngLiF = []\n",
    "ILi = []\n",
    "IKBr = []\n",
    "lamLiF = []\n",
    "lamKBr = []\n",
    "for i in range(5430):\n",
    "    AngLiF.append(datos1.iloc[i,2])\n",
    "    AngKBr.append(datos1.iloc[i,6])\n",
    "    ILi.append(datos1.iloc[i,3])\n",
    "    IKBr.append(datos1.iloc[i,7])\n",
    "    lamLiF.append(2*dLiF*np.sin(AngLiF[i]))\n",
    "    lamKBr.append(2*dKBr*np.sin(AngKBr[i]))\n"
   ]
  },
  {
   "cell_type": "code",
   "execution_count": 5,
   "metadata": {},
   "outputs": [
    {
     "data": {
      "text/plain": [
       "<matplotlib.legend.Legend at 0x7f61ac256fd0>"
      ]
     },
     "execution_count": 5,
     "metadata": {},
     "output_type": "execute_result"
    },
    {
     "data": {
      "image/png": "[encoded data removed]",
      "text/plain": [
       "<Figure size 432x288 with 1 Axes>"
      ]
     },
     "metadata": {
      "needs_background": "light"
     },
     "output_type": "display_data"
    }
   ],
   "source": [
    "plt.plot(lamLiF,ILi,label = 'LiF')\n",
    "plt.plot(lamKBr,IKBr, label = 'KBr')\n",
    "plt.grid()\n",
    "plt.ylabel('Intensidad [Arb]')\n",
    "plt.xlabel('Longitud de onda [m]')\n",
    "plt.legend()"
   ]
  },
  {
   "cell_type": "code",
   "execution_count": 6,
   "metadata": {},
   "outputs": [
    {
     "name": "stdout",
     "output_type": "stream",
     "text": [
      "1.5431583760156256e-10 1.542548203316478e-10\n"
     ]
    }
   ],
   "source": [
    "#Calculo de máximo global\n",
    "k1 = 0\n",
    "k2 = 0\n",
    "IMax1 = 0\n",
    "IMax2 = 0\n",
    "for i in range(len(lamKBr)):\n",
    "    if ILi[i]>IMax1:\n",
    "        IMax1 = ILi[i]\n",
    "        k1 = i\n",
    "    if IKBr[i]>IMax2:\n",
    "        IMax2 = IKBr[i]\n",
    "        k2 = i\n",
    "        \n",
    "print(lamLiF[k1], lamKBr[k2])"
   ]
  },
  {
   "cell_type": "code",
   "execution_count": 7,
   "metadata": {},
   "outputs": [
    {
     "name": "stdout",
     "output_type": "stream",
     "text": [
      "1.5431583760156256e-10 1.542548203316478e-10\n",
      "1.3919667754949922e-10 1.3914453977412573e-10\n",
      "1.542853289666052e-10 3.0508634957378123e-14\n",
      "1.3917060866181246e-10 2.606888768674559e-14\n"
     ]
    }
   ],
   "source": [
    "#Cálculo del primer máximo\n",
    "k11 = 0\n",
    "k22 = 0\n",
    "IMax11 = 0\n",
    "IMax22 = 0\n",
    "for i in range(len(lamKBr)):\n",
    "    if ILi[i]>IMax11:\n",
    "        IMax11 = ILi[i]\n",
    "        k11 = i\n",
    "    if lamLiF[i]>1.5e-10:\n",
    "        break\n",
    "\n",
    "for i in range(len(lamLiF)):\n",
    "    if IKBr[i]>IMax22:\n",
    "        IMax22 = IKBr[i]\n",
    "        k22 = i\n",
    "    if lamKBr[i]>1.5e-10:\n",
    "        break\n",
    "    \n",
    "KalfLiF = lamLiF[k1]\n",
    "KalfKBr = lamKBr[k2]\n",
    "KbetaLiF = lamLiF[k11]\n",
    "KbetaKBr = lamKBr[k22]\n",
    "\n",
    "PromAlf = (KalfKBr+KalfLiF)/2\n",
    "PromBe = (KbetaKBr+KbetaLiF)/2\n",
    "desAlf = (abs(KalfLiF-PromAlf) + abs(KalfKBr-PromAlf))/2\n",
    "desBe = (abs(KbetaLiF-PromBe) + abs(KbetaKBr-PromBe))/2\n",
    "\n",
    "\n",
    "\n",
    "print(KalfLiF,KalfKBr)\n",
    "print(KbetaLiF,KbetaKBr)\n",
    "print(PromAlf,desAlf)\n",
    "print(PromBe, desBe)"
   ]
  },
  {
   "cell_type": "code",
   "execution_count": 8,
   "metadata": {},
   "outputs": [],
   "source": [
    "#Calculo de desviación \n",
    "miti1 = IMax1/2\n",
    "miti2 = IMax2/2\n",
    "miti11 = IMax11/2\n",
    "miti22 = IMax22/2\n",
    "\n",
    "D11 = D12 = D13 = D14 = D21 = D22 = D23 = D24 = 0\n",
    "\n",
    "\n",
    "l11 = l12 = l13 = l14 = l21 = l22 = l23 = l24 = 100\n",
    "for i in range(len(lamKBr)):\n",
    "    if abs(round(miti1) - ILi[i])<l11 and i<k1:\n",
    "        D11 = lamLiF[i]\n",
    "    if abs(round(miti1) - ILi[i])<l12 and i>k1:\n",
    "        D12 = lamLiF[i]\n",
    "        \n",
    "    if abs(round(miti11) - ILi[i])<l13 and i<k11:\n",
    "        D13 = lamLiF[i]\n",
    "    if abs(round(miti11) - ILi[i])<l14 and i>k11:\n",
    "        D14 = lamLiF[i]\n",
    "        \n",
    "    if abs(round(miti2) - IKBr[i])<l21 and i<k2:\n",
    "        D21 = lamKBr[i]\n",
    "    if abs(round(miti2) - IKBr[i])<l22 and i>k2:\n",
    "        D22 = lamKBr[i]\n",
    "        \n",
    "    if abs(round(miti22) - IKBr[i])<l23 and i<k22:\n",
    "        D23 = lamKBr[i]\n",
    "    if abs(round(miti22) - IKBr[i])<l24 and i>k22:\n",
    "        D24 = lamKBr[i]\n",
    "        \n",
    "Delta1 = D12 - D11 #incertidumbre Kalfa LiF\n",
    "Delta11 = D14 - D13 #incertidumbre Kbeta LiF\n",
    "Delta2 = D22 - D21 #incertidumbre Kalfa KBr\n",
    "Delta22 = D24 - D23 #incertidumbre Kbeta KBr\n",
    "\n",
    "Delta = [Delta1,Delta2,Delta11,Delta22] "
   ]
  },
  {
   "cell_type": "code",
   "execution_count": 9,
   "metadata": {},
   "outputs": [
    {
     "data": {
      "text/plain": [
       "[2.856522903589353e-12,\n",
       " 5.022627854143828e-12,\n",
       " 1.8318781350835068e-11,\n",
       " 2.0813596858440038e-11]"
      ]
     },
     "execution_count": 9,
     "metadata": {},
     "output_type": "execute_result"
    }
   ],
   "source": [
    "Delta"
   ]
  },
  {
   "cell_type": "markdown",
   "metadata": {},
   "source": [
    "## Incertidumbre de los parámetros de la pendiente\n"
   ]
  },
  {
   "cell_type": "markdown",
   "metadata": {},
   "source": [
    "$$y = mx+b$$"
   ]
  },
  {
   "cell_type": "markdown",
   "metadata": {},
   "source": [
    "\n",
    "$$S = \\sum_{i = 1}^k ((y)_i-b-mx_i)^2$$"
   ]
  },
  {
   "cell_type": "markdown",
   "metadata": {},
   "source": [
    "$$\\Delta b = \\sqrt{\\frac{S}{k-2}\\frac{\\sum x^2}{{\\sum x^2 - \\left(\\sum x\\right)^2}}}$$"
   ]
  },
  {
   "cell_type": "markdown",
   "metadata": {},
   "source": [
    "$$\\Delta m = \\sqrt{\\frac{S}{k-2}\\frac{k}{\\sum x^2 - \\left(\\sum x\\right)^2}}$$"
   ]
  },
  {
   "cell_type": "markdown",
   "metadata": {},
   "source": [
    "# Actividad 2"
   ]
  },
  {
   "cell_type": "code",
   "execution_count": 10,
   "metadata": {},
   "outputs": [
    {
     "data": {
      "text/plain": [
       "<matplotlib.collections.PathCollection at 0x7f61ab836ee0>"
      ]
     },
     "execution_count": 10,
     "metadata": {},
     "output_type": "execute_result"
    },
    {
     "data": {
      "image/png": "[encoded data removed]",
      "text/plain": [
       "<Figure size 432x288 with 1 Axes>"
      ]
     },
     "metadata": {
      "needs_background": "light"
     },
     "output_type": "display_data"
    }
   ],
   "source": [
    "#Datos aluminio\n",
    "Allam = [4.909E-11,5.606E-11,6.301E-11,6.995E-11,7.686E-11,8.375E-11,9.061E-11,9.745E-11,1.043E-10,1.110E-10]\n",
    "Allam = np.array(Allam)\n",
    "Allam3 = Allam**3\n",
    "AlRho = [0.000096,0.000143,0.000204,0.000278,0.000369,0.000478,0.000605,0.000753,0.000922,0.001114]\n",
    "plt.scatter(Allam3,AlRho)"
   ]
  },
  {
   "cell_type": "code",
   "execution_count": 11,
   "metadata": {},
   "outputs": [],
   "source": [
    "#Datos Zinc\n",
    "Zlam3 = [7.464E-32,1.183E-31,1.762E-31,2.502E-31,3.422E-31,4.540E-31,5.874E-31,7.439E-31,9.253E-31,1.133E-30,1.369E-30]\n",
    "Zlam3 = np.array(Zlam3)\n",
    "ZRho = [2.818E-07,4.466E-07,6.653E-07,9.447E-07,1.292E-06,1.714E-06,2.218E-06,2.810E-06,3.494E-06,4.279E-06,5.168E-06]"
   ]
  },
  {
   "cell_type": "code",
   "execution_count": 12,
   "metadata": {},
   "outputs": [
    {
     "name": "stdout",
     "output_type": "stream",
     "text": [
      "3.240739674259394e+25 1.7016816659993862e+21\n"
     ]
    }
   ],
   "source": [
    "# incertidumbre pendientes:\n",
    "S1 = 0\n",
    "S2 = 0\n",
    "paramAl = [8.14e26,5.14e-5]\n",
    "paramZ = [3.78e24,-1.29e-12]\n",
    "SumCuadAl = 0\n",
    "SumSingAl = 0 \n",
    "SumCuadZ = 0 \n",
    "SumSingZ = 0\n",
    "k = len(Allam3)\n",
    "for i in range(k):\n",
    "    S1 += (AlRho[i]-paramAl[1]-paramAl[0]*Allam3[i])**2\n",
    "    S2 += (ZRho[i]-paramZ[1]-paramZ[0]*Zlam3[i])**2\n",
    "    SumSingAl += Allam3[i]\n",
    "    SumCuadAl += (Allam3[i])**2\n",
    "    SumSingZ += Zlam3[i]\n",
    "    SumCuadZ += (Zlam3[i])**2\n",
    "    \n",
    "\n",
    "DmAl = np.sqrt(((S1/(k-2))*(k/abs(SumCuadAl - (SumSingAl)**2))))\n",
    "DmZ = np.sqrt(((S2/(k-2))*(k/abs(SumCuadZ - (SumSingZ)**2))))\n",
    "print(DmAl,DmZ)"
   ]
  },
  {
   "cell_type": "code",
   "execution_count": 13,
   "metadata": {},
   "outputs": [
    {
     "data": {
      "text/plain": [
       "6.302524688886615e+16"
      ]
     },
     "execution_count": 13,
     "metadata": {},
     "output_type": "execute_result"
    }
   ],
   "source": [
    "DmZ/(30**3)"
   ]
  },
  {
   "cell_type": "code",
   "execution_count": 14,
   "metadata": {},
   "outputs": [
    {
     "data": {
      "text/plain": [
       "Text(0.5, 1.0, 'Aluminio')"
      ]
     },
     "execution_count": 14,
     "metadata": {},
     "output_type": "execute_result"
    },
    {
     "data": {
      "image/png": "[encoded data removed]",
      "text/plain": [
       "<Figure size 432x288 with 1 Axes>"
      ]
     },
     "metadata": {
      "needs_background": "light"
     },
     "output_type": "display_data"
    }
   ],
   "source": [
    "#Residual Aluminio\n",
    "mAl = 8.14e26\n",
    "bAl = 5.14e-5\n",
    "\n",
    "residualAl = []\n",
    "for i in range(len(Allam3)):\n",
    "    residualAl.append(AlRho[i]-(Allam3[i]*mAl+bAl))\n",
    "\n",
    "    \n",
    "\n",
    "plt.scatter(Allam3,residualAl)\n",
    "plt.grid()\n",
    "plt.xlabel(r'$\\lambda^3$[m]')\n",
    "plt.ylabel(r'Residual [$m^3/kg$]')\n",
    "plt.title('Aluminio')"
   ]
  },
  {
   "cell_type": "code",
   "execution_count": 15,
   "metadata": {},
   "outputs": [
    {
     "data": {
      "text/plain": [
       "Text(0.5, 1.0, 'Zinc')"
      ]
     },
     "execution_count": 15,
     "metadata": {},
     "output_type": "execute_result"
    },
    {
     "data": {
      "image/png": "[encoded data removed]",
      "text/plain": [
       "<Figure size 432x288 with 1 Axes>"
      ]
     },
     "metadata": {
      "needs_background": "light"
     },
     "output_type": "display_data"
    }
   ],
   "source": [
    "# Residual Zinc\n",
    "mZ = 3.78e24\n",
    "bZ = -1.29e-12\n",
    "\n",
    "residualZ = []\n",
    "for i in range(len(Zlam3)):\n",
    "    residualZ.append(ZRho[i]-(Zlam3[i]*mZ + bZ))\n",
    "    \n",
    "plt.scatter(Zlam3,residualZ,color = 'orchid')\n",
    "plt.grid()\n",
    "plt.xlabel(r'$\\lambda^3$[m]')\n",
    "plt.ylabel(r'Residual [$m^3/kg$]')\n",
    "plt.title('Zinc')"
   ]
  },
  {
   "cell_type": "markdown",
   "metadata": {},
   "source": [
    "# Actividad 3"
   ]
  },
  {
   "cell_type": "markdown",
   "metadata": {},
   "source": [
    "## Incertidumbre de los parámetros de la pendiente\n"
   ]
  },
  {
   "cell_type": "markdown",
   "metadata": {},
   "source": [
    "$$y = mx+b$$"
   ]
  },
  {
   "cell_type": "markdown",
   "metadata": {},
   "source": [
    "\n",
    "$$S = \\sum_{i = 1}^k ((y)_i-b-mx_i)^2$$"
   ]
  },
  {
   "cell_type": "markdown",
   "metadata": {},
   "source": [
    "$$\\Delta b = \\sqrt{\\frac{S}{k-2}\\frac{\\sum x^2}{{\\sum x^2 - \\left(\\sum x\\right)^2}}}$$"
   ]
  },
  {
   "cell_type": "markdown",
   "metadata": {},
   "source": [
    "$$\\Delta m = \\sqrt{\\frac{S}{k-2}\\frac{k}{\\sum x^2 - \\left(\\sum x\\right)^2}}$$"
   ]
  },
  {
   "cell_type": "code",
   "execution_count": 30,
   "metadata": {},
   "outputs": [],
   "source": [
    "## corriente constante\n",
    "\n",
    "IntBeta1 = [0.6452325,1.7969132,3.2840042,5.0428811,7.0366014,9.2401827,11.6352596,14.2075893,16.9457051,19.8401162,22.8827978,26.0668477,29.3862472,32.8356867,36.4104367,40.1062493,43.9192815,47.8460345,51.8833055,56.0281480,60.2778394,64.6298539,69.0818399,73.6316010,78.2770794]\n",
    "IntAlfa11 = [1.6009608,4.4585286,8.1483218,12.5124741,17.4593236,22.9268835,28.8695851,35.2520889,42.0459439,49.2276014,56.7771497,64.6774633,72.9136083,81.4724106,90.3421354,99.5122425,108.9731965,118.7163164,128.7336553,139.0179023,149.5623020,160.3605872,171.4069234,182.6958606,194.2222929]\n",
    "IntAlfa12 = [1.4830179,4.1300685,7.5480344,11.5906794,16.1730941,21.2378585,26.7427609,32.6550653,38.9484166,45.6010009,52.5943735,59.9126705,67.5420582,75.4703330,83.6866246,92.1811694,100.9451343,109.9704779,119.2498388,128.7764447,138.5440378,148.5468127,158.7793646,169.2366450,179.9139244]\n",
    "V = [32624.106,90855.133,166045.109,254977.060,355783.114,467200.115,588299.473,718361.047,856805.063,1003151.653,1156995.057,1317986.299,1485821.055,1660230.867,1840976.603,2027843.479,2220637.183,2419180.817,2623312.438,2832883.067,3047755.041,3267800.654,3492901.006,3722945.039,3957828.708]"
   ]
  },
  {
   "cell_type": "code",
   "execution_count": 31,
   "metadata": {},
   "outputs": [
    {
     "name": "stdout",
     "output_type": "stream",
     "text": [
      "5.900595470901165e-10 7.828161161083328e-10 6.032578843218787e-10\n"
     ]
    }
   ],
   "source": [
    "# incertidumbre pendientes:\n",
    "# Corriente constante 1mA\n",
    "S1 = 0\n",
    "S2 = 0\n",
    "S3 = 0\n",
    "paramBeta1 = [1.978e-5,1.743e-14]\n",
    "paramAlfa11 = [4.907e-5,0]\n",
    "paramAlfa12 = [4.546e-5,-3.486e-14]\n",
    "SumCuadV = 0\n",
    "SumSingV = 0\n",
    "k = len(IntAlfa11)\n",
    "for i in range(k):\n",
    "    S1 += (IntBeta1[i]-paramBeta1[1]-paramBeta1[0]*V[i])**2\n",
    "    S2 += (IntAlfa11[i]-paramAlfa11[1]-paramAlfa11[0]*V[i])**2\n",
    "    S3 += (IntAlfa12[i]-paramAlfa12[1]-paramAlfa12[0]*V[i])**2\n",
    "    SumSingV += V[i]\n",
    "    SumCuadV += (V[i])**2\n",
    "    \n",
    "\n",
    "DmBeta1 = np.sqrt(((S1/(k-2))*(k/abs(SumCuadV - (SumSingV)**2))))\n",
    "DmAlfa11 = np.sqrt(((S2/(k-2))*(k/abs(SumCuadV - (SumSingV)**2))))\n",
    "DmAlfa12 = np.sqrt(((S3/(k-2))*(k/abs(SumCuadV - (SumSingV)**2))))\n",
    "print(DmBeta1,DmAlfa11,DmAlfa12)"
   ]
  },
  {
   "cell_type": "code",
   "execution_count": 34,
   "metadata": {},
   "outputs": [],
   "source": [
    "## Voltaje constante\n",
    "IntBeta2 = [7.827707937,15.655415875,23.483123812,31.310831749,39.138539687,46.966247624,54.793955561,62.621663499,70.449371436,78.277079373]\n",
    "IntAlfa21 = [19.422229292,38.844458583,58.266687875,77.688917166,97.111146458,116.533375749,135.955605041,155.377834332,174.800063624,194.222292915]\n",
    "IntAlfa22 = [17.991392439,35.982784878,53.974177317,71.965569756,89.956962195,107.948354634,125.939747073,143.931139512,161.922531951,179.913924390]\n",
    "I = [0.0001,0.0002,0.0003,0.0004,0.0005,0.0006,0.0007,0.0008,0.0009,0.001]"
   ]
  },
  {
   "cell_type": "code",
   "execution_count": 37,
   "metadata": {},
   "outputs": [
    {
     "name": "stdout",
     "output_type": "stream",
     "text": [
      "0.03388891742665218 0.12506203800286983 0.032282164465975864\n"
     ]
    }
   ],
   "source": [
    "# incertidumbre pendientes:\n",
    "# Voltaje constante 35kV\n",
    "S1 = 0\n",
    "S2 = 0\n",
    "S3 = 0\n",
    "paramBeta2 = [78277,-3e-14]\n",
    "paramAlfa21 = [194222,-1e-13]\n",
    "paramAlfa22 = [179914,-2e-14]\n",
    "SumCuadI = 0\n",
    "SumSingI = 0\n",
    "k = len(IntAlfa21)\n",
    "for i in range(k):\n",
    "    S1 += (IntBeta2[i]-paramBeta2[1]-paramBeta2[0]*I[i])**2\n",
    "    S2 += (IntAlfa21[i]-paramAlfa21[1]-paramAlfa21[0]*I[i])**2\n",
    "    S3 += (IntAlfa22[i]-paramAlfa22[1]-paramAlfa22[0]*I[i])**2\n",
    "    SumSingI += I[i]\n",
    "    SumCuadI += (I[i])**2\n",
    "    \n",
    "\n",
    "DmBeta2 = np.sqrt(((S1/(k-2))*(k/abs(SumCuadI - (SumSingI)**2))))\n",
    "DmAlfa21 = np.sqrt(((S2/(k-2))*(k/abs(SumCuadI - (SumSingI)**2))))\n",
    "DmAlfa22 = np.sqrt(((S3/(k-2))*(k/abs(SumCuadI - (SumSingI)**2))))\n",
    "print(DmBeta2,DmAlfa21,DmAlfa22)"
   ]
  },
  {
   "cell_type": "markdown",
   "metadata": {},
   "source": [
    "## Actividad 4"
   ]
  },
  {
   "cell_type": "code",
   "execution_count": 47,
   "metadata": {},
   "outputs": [
    {
     "name": "stdout",
     "output_type": "stream",
     "text": [
      "1.368330693382464e-09 6.572487729188029e-14\n"
     ]
    }
   ],
   "source": [
    "## 1/U_a vs lam_min\n",
    "\n",
    "x = [7.6923E-05,6.6667E-05,5.8824E-05,5.2632E-05,4.7619E-05,4.3478E-05,0.00004,3.7037E-05,3.4483E-05,3.2258E-05,3.0303E-05,2.8571E-05]\n",
    "y = [9.5398363157E-11,8.3058974543E-11,7.3404639394E-11,6.5787717585E-11,5.9537636213E-11,5.3969494818E-11,4.9786524183E-11,4.6296792001E-11,4.2803134142E-11,4.0006088439E-11,3.7906916985E-11,3.5806706288E-11]\n",
    "param = [1.24102e-6,2.247e-13]\n",
    "sumX = 0\n",
    "sumX2 = 0\n",
    "S = 0\n",
    "k = len(x)\n",
    "for i in range(k):\n",
    "    S += (y[i]-param[1]-param[0]*x[i])**2\n",
    "    sumX += x[i]\n",
    "    sumX2 += x[i]**2\n",
    "\n",
    "\n",
    "Dm = np.sqrt(((S/(k-2))*(k/abs(sumX2 - (sumX)**2))))\n",
    "Db = np.sqrt(((S/(k-2))*(sumX2/abs(sumX2 - (sumX)**2))))\n",
    "print(Dm,Db)"
   ]
  },
  {
   "cell_type": "code",
   "execution_count": 46,
   "metadata": {},
   "outputs": [
    {
     "name": "stdout",
     "output_type": "stream",
     "text": [
      "7.37992642491308e-37 1.0627001850293514e-32\n"
     ]
    }
   ],
   "source": [
    "## c/u_a vs e\\lambda\n",
    "\n",
    "x = [23060.9583,19986.1639,17634.8505,15778.5504,14275.8313,13034.4547,11991.6983,11103.4244,10337.671,9670.72445,9084.61994,8565.4988]\n",
    "y = [1.52828e-29,1.3306e-29,1.17594e-29,1.05392e-29,9.53793e-30,8.64591e-30,7.9758e-30,7.41675e-30,6.85706e-30,6.40898e-30,6.07269e-30,5.73623e-30]\n",
    "param = [6.63165e-34,4e-32]\n",
    "sumX = 0\n",
    "sumX2 = 0\n",
    "S = 0\n",
    "k = len(x)\n",
    "for i in range(k):\n",
    "    S += (y[i]-param[1]-param[0]*x[i])**2\n",
    "    sumX += x[i]\n",
    "    sumX2 += x[i]**2\n",
    "\n",
    "\n",
    "Dm = np.sqrt(((S/(k-2))*(k/abs(sumX2 - (sumX)**2))))\n",
    "Db = np.sqrt(((S/(k-2))*(sumX2/abs(sumX2 - (sumX)**2))))\n",
    "print(Dm,Db)"
   ]
  },
  {
   "cell_type": "code",
   "execution_count": null,
   "metadata": {},
   "outputs": [],
   "source": []
  }
 ],
 "metadata": {
  "kernelspec": {
   "display_name": "Python 3",
   "language": "python",
   "name": "python3"
  },
  "language_info": {
   "codemirror_mode": {
    "name": "ipython",
    "version": 3
   },
   "file_extension": ".py",
   "mimetype": "text/x-python",
   "name": "python",
   "nbconvert_exporter": "python",
   "pygments_lexer": "ipython3",
   "version": "3.8.5"
  }
 },
 "nbformat": 4,
 "nbformat_minor": 4
}
